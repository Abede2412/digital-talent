{
 "cells": [
  {
   "cell_type": "markdown",
   "metadata": {},
   "source": [
    "# Luaran Pembelajaran\n",
    "\n",
    "In this module, you will learn about:\n",
    "\n",
    "- Boolean values;\n",
    "- if-elif-else instructions;\n",
    "- the while and for loops;\n",
    "- flow control;\n",
    "- logical and bitwise operations;\n",
    "- lists and arrays."
   ]
  },
  {
   "cell_type": "markdown",
   "metadata": {},
   "source": [
    "### Operator Relasional"
   ]
  },
  {
   "cell_type": "code",
   "execution_count": null,
   "metadata": {},
   "outputs": [],
   "source": [
    "a = int(input(\"masukkan a = \"))\n",
    "b = int(input(\"masukkan b = \"))\n",
    "c = int(input(\"masukkan c = \"))\n",
    "d = int(input(\"masukkan d = \"))\n",
    "\n",
    "print(\"a==b\",a==b)\n",
    "print(\"a==c\",a==c)\n",
    "print(\"a!=b\",a!=b)\n",
    "\n",
    "print(\"a>d\",a>d)\n",
    "print(\"b<d\",b<d)\n",
    "print(\"b<=d\",b<=d)\n",
    "print(\"b<=d\",b<=d)\n"
   ]
  },
  {
   "cell_type": "markdown",
   "metadata": {},
   "source": [
    "## Statement Kondisi"
   ]
  },
  {
   "cell_type": "code",
   "execution_count": null,
   "metadata": {},
   "outputs": [],
   "source": [
    "a = 5\n",
    "b = 5\n",
    "\n",
    "if a==b:\n",
    "    print(\"a dan b bernilai sama\")"
   ]
  },
  {
   "cell_type": "code",
   "execution_count": 9,
   "metadata": {},
   "outputs": [
    {
     "name": "stdout",
     "output_type": "stream",
     "text": [
      "a dan b bernilai berbeda\n"
     ]
    }
   ],
   "source": [
    "a = 5\n",
    "b = 6\n",
    "\n",
    "if a==b:\n",
    "    print(\"a dan b bernilai sama\")\n",
    "else:\n",
    "    print(\"a dan b bernilai berbeda\")"
   ]
  },
  {
   "cell_type": "code",
   "execution_count": 10,
   "metadata": {},
   "outputs": [
    {
     "name": "stdout",
     "output_type": "stream",
     "text": [
      "Mengulang\n"
     ]
    }
   ],
   "source": [
    "a = 80\n",
    "\n",
    "if a > 80:\n",
    "    print(\"Lulus\")\n",
    "elif a > 60:\n",
    "    print(\"Mengulang\")\n",
    "else:\n",
    "    print(\"Tidak Lulus\")\n"
   ]
  },
  {
   "cell_type": "code",
   "execution_count": 28,
   "metadata": {},
   "outputs": [
    {
     "name": "stdout",
     "output_type": "stream",
     "text": [
      "nested: x == 10\n"
     ]
    }
   ],
   "source": [
    "x = 10\n",
    "\n",
    "if x > 5: # True\n",
    "    if x == 6: # False\n",
    "        print(\"nested: x == 6\")\n",
    "    elif x == 10: # True\n",
    "        print(\"nested: x == 10\")\n",
    "    else:\n",
    "        print(\"nested: else\")\n",
    "else:\n",
    "    print(\"else\")"
   ]
  },
  {
   "cell_type": "markdown",
   "metadata": {},
   "source": [
    "### Mencari Bilangan Terbesar"
   ]
  },
  {
   "cell_type": "code",
   "execution_count": null,
   "metadata": {},
   "outputs": [],
   "source": [
    "# read two numbers\n",
    "number1 = int(input(\"Enter the first number: \"))\n",
    "number2 = int(input(\"Enter the second number: \"))\n",
    "\n",
    "# choose the larger number\n",
    "if number1 > number2:\n",
    "    largerNumber = number1\n",
    "else:\n",
    "    largerNumber = number2\n",
    "\n",
    "# print the result\n",
    "print(\"The larger number is:\", largerNumber)"
   ]
  },
  {
   "cell_type": "code",
   "execution_count": 11,
   "metadata": {},
   "outputs": [
    {
     "name": "stdout",
     "output_type": "stream",
     "text": [
      "Enter the first number: 8\n",
      "Enter the second number: 9\n",
      "Enter the third number: 10\n",
      "The largest number is: 10\n"
     ]
    }
   ],
   "source": [
    "# read three numbers\n",
    "number1 = int(input(\"Enter the first number: \"))\n",
    "number2 = int(input(\"Enter the second number: \"))\n",
    "number3 = int(input(\"Enter the third number: \"))\n",
    "\n",
    "# we temporarily assume that the first number\n",
    "# is the largest one\n",
    "# we will verify it soon\n",
    "largestNumber = number1\n",
    "\n",
    "# we check if the second number is larger than current largestNumber\n",
    "# and update largestNumber if needed\n",
    "if number2 > largestNumber:\n",
    "    largestNumber = number2\n",
    "\n",
    "# we check if the third number is larger than current largestNumber\n",
    "# and update largestNumber if needed\n",
    "if number3 > largestNumber:\n",
    "    largestNumber = number3\n",
    "\n",
    "# print the result\n",
    "print(\"The largest number is:\", largestNumber)"
   ]
  },
  {
   "cell_type": "markdown",
   "metadata": {},
   "source": [
    "### Lab\n",
    "Spathiphyllum, more commonly known as a peace lily or white sail plant, is one of the most popular indoor houseplants that filters out harmful toxins from the air. Some of the toxins that it neutralizes include benzene, formaldehyde, and ammonia.\n",
    "\n",
    "Imagine that your computer program loves these plants. Whenever it receives an input in the form of the word Spathiphyllum, it involuntarily shouts to the console the following string: \"Spathiphyllum is the best plant ever!\"\n",
    "\n",
    "Write a program that utilizes the concept of conditional execution, takes a string as input, and:\n",
    "\n",
    "- prints the sentence `\"Yes - Spathiphyllum is the best plant ever!\"` to the screen if the inputted string is `\"Spathiphyllum\"` (upper-case)\n",
    "- prints `\"No, I want a big Spathiphyllum!\"` if the inputted string is `\"spathiphyllum\"` (lower-case)\n",
    "- prints `\"Spathiphyllum! Not [input]!\"` otherwise. Note: [input] is the string taken as input."
   ]
  },
  {
   "cell_type": "code",
   "execution_count": 15,
   "metadata": {},
   "outputs": [
    {
     "name": "stdout",
     "output_type": "stream",
     "text": [
      "Please input a best plant = spathiphyllum\n",
      "No, I want a big Spathiphyllum!\n"
     ]
    }
   ],
   "source": [
    "plant = input(\"Please input a best plant = \")\n",
    "\n",
    "if plant==\"Spathiphyllum\":\n",
    "    print(\"Yes - Spathiphyllum is the best plant ever!\")\n",
    "elif plant==\"spathiphyllum\":\n",
    "    print(\"No, I want a big Spathiphyllum!\")\n",
    "else:\n",
    "    print(\"Spathiphyllum! Not \"+plant+\"!\")"
   ]
  },
  {
   "cell_type": "markdown",
   "metadata": {},
   "source": [
    "### Lab\n",
    "\n",
    "Once upon a time there was a land - a land of milk and honey, inhabited by happy and prosperous people. The people paid taxes, of course - their happiness had limits. The most important tax, called the Personal Income Tax (PIT for short) had to be paid once a year, and was evaluated using the following rule:\n",
    "\n",
    "- if the citizen's income was not higher than 85,528 thalers, the tax was equal to 18% of the income minus 556 thalers and 2 cents (this was the so-called tax relief)\n",
    "- if the income was higher than this amount, the tax was equal to 14,839 thalers and 2 cents, plus 32% of the surplus over 85,528 thalers.\n",
    "\n",
    "Your task is to write a <b>tax calculator</b>.\n",
    "\n",
    "- It should accept one floating-point value: the income.\n",
    "- Next, it should print the calculated tax, rounded to full thalers. There's a function named round() which will do the rounding for you - you'll find it in the skeleton code in the editor.\n",
    "\n",
    "Note: this happy country never returns money to its citizens. If the calculated tax is less than zero, it only means no tax at all (the tax is equal to zero). Take this into consideration during your calculations.\n",
    "\n",
    "Look at the code in the editor - it only reads one input value and outputs a result, so you need to complete it with some smart calculations.\n",
    "\n",
    "```python\n",
    "income = float(input(\"Enter the annual income: \"))\n",
    "\n",
    "#\n",
    "# Put your code here.\n",
    "#\n",
    "\n",
    "tax = round(tax, 0)\n",
    "print(\"The tax is:\", tax, \"thalers\")\n",
    "```\n",
    "\n",
    "Test your code using the data we've provided.\n",
    "\n",
    "```python\n",
    "Sample input: 10000\n",
    "\n",
    "Expected output: The tax is: 1244.0 thalers\n",
    "        \n",
    "Sample input: 100000\n",
    "\n",
    "Expected output: The tax is: 19470.0 thalers\n",
    "        \n",
    "Sample input: 1000\n",
    "\n",
    "Expected output: The tax is: 0.0 thalers\n",
    "\n",
    "Sample input: -100\n",
    "\n",
    "Expected output: The tax is: 0.0 thalers\n",
    "```"
   ]
  },
  {
   "cell_type": "code",
   "execution_count": 27,
   "metadata": {},
   "outputs": [
    {
     "name": "stdout",
     "output_type": "stream",
     "text": [
      "Enter the annual income: 1000\n",
      "The tax is: 0 thalers\n"
     ]
    }
   ],
   "source": [
    "income = float(input(\"Enter the annual income: \"))\n",
    "tax = 0\n",
    "\n",
    "if income<85528:\n",
    "    tax = 0.18 * income - 556.2\n",
    "else:\n",
    "    tax = 14839 + 0.2 + 0.32 * (income - 85528)\n",
    "\n",
    "tax = round(tax, 0)\n",
    "\n",
    "if tax<0:\n",
    "    tax = 0\n",
    "\n",
    "print(\"The tax is:\", tax, \"thalers\")\n"
   ]
  },
  {
   "cell_type": "markdown",
   "metadata": {},
   "source": [
    "### Lab\n",
    "\n",
    "As you surely know, due to some astronomical reasons, years may be leap or common. The former are 366 days long, while the latter are 365 days long.\n",
    "\n",
    "Since the introduction of the Gregorian calendar (in 1582), the following rule is used to determine the kind of year:\n",
    "\n",
    "- if the year number isn't divisible by four, it's a common year;\n",
    "- otherwise, if the year number isn't divisible by 100, it's a leap year;\n",
    "- otherwise, if the year number isn't divisible by 400, it's a common year;\n",
    "- otherwise, it's a leap year.\n",
    "\n",
    "Look at the code in the editor - it only reads a year number, and needs to be completed with the instructions implementing the test we've just described.\n",
    "\n",
    "``` python\n",
    "year = int(input(\"Enter a year: \"))\n",
    "\n",
    "#\n",
    "# Put your code here.\n",
    "#\n",
    "\n",
    "```\n",
    "\n",
    "The code should output one of two possible messages, which are Leap year or Common year, depending on the value entered.\n",
    "\n",
    "It would be good to verify if the entered year falls into the Gregorian era, and output a warning otherwise: Not within the Gregorian calendar period. Tip: use the != and % operators.\n",
    "\n",
    "Test your code using the data we've provided.\n",
    "\n",
    "Sample input: `2000`\n",
    "\n",
    "Expected output: `Leap year`\n",
    "\n",
    "Sample input: `2015`\n",
    "\n",
    "Expected output: `Common year`\n",
    "\n",
    "Sample input: `1999`\n",
    "\n",
    "Expected output: `Common year`\n",
    "\n",
    "Sample input: `1996`\n",
    "\n",
    "Expected output: `Leap year`\n",
    "\n",
    "Sample input: `1580`\n",
    "\n",
    "Expected output: `Not within the Gregorian calendar period`"
   ]
  },
  {
   "cell_type": "markdown",
   "metadata": {},
   "source": [
    "# Exercise\n",
    "\n",
    "What is the output:\n",
    "\n",
    "```python\n",
    "x = 5\n",
    "y = 10\n",
    "z = 8\n",
    "\n",
    "print(x > y)\n",
    "print(y > z)\n",
    "```\n",
    "\n",
    "What is the output:\n",
    "\n",
    "```python\n",
    "x, y, z = 5, 10, 8\n",
    "\n",
    "print(x > z)\n",
    "print((y - 5) == x)\n",
    "```\n",
    "\n",
    "What is the output:\n",
    "\n",
    "```python\n",
    "x, y, z = 5, 10, 8\n",
    "x, y, z = z, y, x\n",
    "\n",
    "print(x > z)\n",
    "print((y - 5) == x)\n",
    "```\n",
    "\n",
    "What is the output:\n",
    "\n",
    "```python\n",
    "x = 10\n",
    "\n",
    "if x == 10:\n",
    "    print(x == 10)\n",
    "if x > 5:\n",
    "    print(x > 5)\n",
    "if x < 10:\n",
    "    print(x < 10)\n",
    "else:\n",
    "    print(\"else\")\n",
    "```\n",
    "\n",
    "What is the output:\n",
    "\n",
    "```python\n",
    "x = \"1\"\n",
    "\n",
    "if x == 1:\n",
    "    print(\"one\")\n",
    "elif x == \"1\":\n",
    "    if int(x) > 1:\n",
    "        print(\"two\")\n",
    "    elif int(x) < 1:\n",
    "        print(\"three\")\n",
    "    else:\n",
    "        print(\"four\")\n",
    "if int(x) == 1:\n",
    "    print(\"five\")\n",
    "else:\n",
    "    print(\"six\")\n",
    "```\n",
    "\n",
    "What is the output:\n",
    "```python\n",
    "x = 1\n",
    "y = 1.0\n",
    "z = \"1\"\n",
    "\n",
    "if x == y:\n",
    "    print(\"one\")\n",
    "if y == int(z):\n",
    "    print(\"two\")\n",
    "elif x == y:\n",
    "    print(\"three\")\n",
    "else:\n",
    "    print(\"four\")\n",
    "```"
   ]
  },
  {
   "cell_type": "markdown",
   "metadata": {},
   "source": [
    "# 3.1.2 Perulangan / Looping\n",
    "\n",
    "Perulangan dengan while:\n",
    "\n",
    "```python\n",
    "while conditional_expression:\n",
    "    instruction_one\n",
    "    instruction_two\n",
    "    instruction_three\n",
    "    :\n",
    "    :\n",
    "    instruction_n\n",
    "```\n",
    "\n",
    "Inifinite Loop\n",
    "```python\n",
    "while True:\n",
    "    print(\"I'm stuck inside a loop.\")\n",
    "```"
   ]
  },
  {
   "cell_type": "code",
   "execution_count": 31,
   "metadata": {},
   "outputs": [
    {
     "name": "stdout",
     "output_type": "stream",
     "text": [
      "1\n",
      "2\n",
      "3\n",
      "4\n",
      "5\n",
      "6\n",
      "7\n",
      "8\n",
      "9\n"
     ]
    }
   ],
   "source": [
    "i = 1\n",
    "while i<10:\n",
    "    print(i)\n",
    "    i = i+1"
   ]
  },
  {
   "cell_type": "markdown",
   "metadata": {},
   "source": [
    "## Contoh: Menghitung bilangan terbesar "
   ]
  },
  {
   "cell_type": "code",
   "execution_count": 30,
   "metadata": {},
   "outputs": [
    {
     "name": "stdout",
     "output_type": "stream",
     "text": [
      "Enter a number or type -1 to stop: 90\n",
      "Enter a number or type -1 to stop: 80\n",
      "Enter a number or type -1 to stop: 80\n",
      "Enter a number or type -1 to stop: 100\n",
      "Enter a number or type -1 to stop: -1\n",
      "The largest number is: 100\n"
     ]
    }
   ],
   "source": [
    "\n",
    "# we will store the current largest number here\n",
    "largestNumber = -999999999\n",
    "\n",
    "# input the first value\n",
    "number = int(input(\"Enter a number or type -1 to stop: \"))\n",
    "\n",
    "# if the number is not equal to -1, we will continue\n",
    "while number != -1:\n",
    "    # is number larger than largestNumber?\n",
    "    if number > largestNumber:\n",
    "        # yes, update largestNumber\n",
    "        largestNumber = number\n",
    "    # input the next number\n",
    "    number = int(input(\"Enter a number or type -1 to stop: \"))\n",
    "\n",
    "# print the largest number\n",
    "print(\"The largest number is:\", largestNumber)"
   ]
  },
  {
   "cell_type": "markdown",
   "metadata": {},
   "source": [
    "## Contoh: Menghitung berapa ganjil dan genap dari rangkaian bilangan"
   ]
  },
  {
   "cell_type": "code",
   "execution_count": null,
   "metadata": {},
   "outputs": [],
   "source": [
    "# program that reads a sequence of numbers\n",
    "# and counts how many numbers are even and how many are odd\n",
    "# program terminates when zero is entered\n",
    "\n",
    "oddNumbers = 0\n",
    "evenNumbers = 0\n",
    "\n",
    "# read the first number\n",
    "number = int(input(\"Enter a number or type 0 to stop: \"))\n",
    "\n",
    "# 0 terminates execution\n",
    "while number != 0:\n",
    "    # check if the number is odd\n",
    "    if number % 2 == 1:\n",
    "        # increase the oddNumbers counter\n",
    "        oddNumbers += 1\n",
    "    else:\n",
    "        # increase the evenNumbers counter\n",
    "        evenNumbers += 1\n",
    "    # read the next number\n",
    "    number = int(input(\"Enter a number or type 0 to stop: \"))\n",
    "\n",
    "# print results\n",
    "print(\"Odd numbers count:\", oddNumbers)\n",
    "print(\"Even numbers count:\", evenNumbers)"
   ]
  },
  {
   "cell_type": "markdown",
   "metadata": {},
   "source": [
    "## Lab\n",
    "A junior magician has picked a secret number. He has hidden it in a variable named `secretNumber`. He wants everyone who run his program to play the Guess the secret number game, and guess what number he has picked for them. Those who don't guess the number will be stuck in an endless loop forever! Unfortunately, he does not know how to complete the code.\n",
    "\n",
    "Your task is to help the magician complete the code in the editor in such a way so that the code:\n",
    "\n",
    "- will ask the user to enter an integer number;\n",
    "- will use a `while` loop;\n",
    "- will check whether the number entered by the user is the same as the number picked by the magician. If the number chosen by the user is different than the magician's secret number, the user should see the message `\"Ha ha! You're stuck in my loop!\"` and be prompted to enter a number again. If the number entered by the user matches the number picked by the magician, the number should be printed to the screen, and the magician should say the following words: `\"Well done, muggle! You are free now.\"`\n",
    "\n",
    "```python\n",
    "secretNumber = 777\n",
    "\n",
    "print(\n",
    "\"\"\"\n",
    "+================================+\n",
    "| Welcome to my game, muggle!    |\n",
    "| Enter an integer number        |\n",
    "| and guess what number I've     |\n",
    "| picked for you.                |\n",
    "| So, what is the secret number? |\n",
    "+================================+\n",
    "\"\"\")\n",
    "```\n",
    "\n",
    "The magician is counting on you! Don't disappoint him."
   ]
  },
  {
   "cell_type": "code",
   "execution_count": 33,
   "metadata": {},
   "outputs": [
    {
     "name": "stdout",
     "output_type": "stream",
     "text": [
      "\n",
      "+================================+\n",
      "| Welcome to my game, muggle!    |\n",
      "| Enter an integer number        |\n",
      "| and guess what number I've     |\n",
      "| picked for you.                |\n",
      "| So, what is the secret number? |\n",
      "+================================+\n",
      "\n",
      "So, what is the secret number? 80\n",
      "Ha ha! You're stuck in my loop!\n",
      "So, what is the secret number? 90\n",
      "Ha ha! You're stuck in my loop!\n",
      "So, what is the secret number? 88\n",
      "Ha ha! You're stuck in my loop!\n",
      "So, what is the secret number? 100\n",
      "Ha ha! You're stuck in my loop!\n",
      "So, what is the secret number? 777\n",
      "Well done, muggle! You are free now.\n"
     ]
    }
   ],
   "source": [
    "secretNumber = 777\n",
    "\n",
    "print(\n",
    "\"\"\"\n",
    "+================================+\n",
    "| Welcome to my game, muggle!    |\n",
    "| Enter an integer number        |\n",
    "| and guess what number I've     |\n",
    "| picked for you.                |\n",
    "| So, what is the secret number? |\n",
    "+================================+\n",
    "\"\"\")\n",
    "\n",
    "guessNumber = 0\n",
    "\n",
    "while guessNumber != secretNumber:\n",
    "    guessNumber = int(input(\"So, what is the secret number? \"))\n",
    "    if guessNumber != secretNumber:\n",
    "        print(\"Ha ha! You're stuck in my loop!\")\n",
    "        \n",
    "print(\"Well done, muggle! You are free now.\")"
   ]
  },
  {
   "cell_type": "code",
   "execution_count": null,
   "metadata": {},
   "outputs": [],
   "source": []
  }
 ],
 "metadata": {
  "kernelspec": {
   "display_name": "Python 3",
   "language": "python",
   "name": "python3"
  },
  "language_info": {
   "codemirror_mode": {
    "name": "ipython",
    "version": 3
   },
   "file_extension": ".py",
   "mimetype": "text/x-python",
   "name": "python",
   "nbconvert_exporter": "python",
   "pygments_lexer": "ipython3",
   "version": "3.6.7"
  }
 },
 "nbformat": 4,
 "nbformat_minor": 2
}
